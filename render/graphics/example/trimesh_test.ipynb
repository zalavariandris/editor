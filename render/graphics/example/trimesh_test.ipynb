{
 "metadata": {
  "language_info": {
   "codemirror_mode": {
    "name": "ipython",
    "version": 3
   },
   "file_extension": ".py",
   "mimetype": "text/x-python",
   "name": "python",
   "nbconvert_exporter": "python",
   "pygments_lexer": "ipython3",
   "version": "3.7.6-final"
  },
  "orig_nbformat": 2,
  "kernelspec": {
   "name": "python3",
   "display_name": "Python 3"
  }
 },
 "nbformat": 4,
 "nbformat_minor": 2,
 "cells": [
  {
   "cell_type": "code",
   "execution_count": 1,
   "metadata": {},
   "outputs": [],
   "source": [
    "import trimesh\n",
    "from pathlib import Path\n",
    "\n",
    "# read scene\n",
    "path = Path(\"../../assets/test_scene.glb\").resolve()\n",
    "triscene = trimesh.load(path)"
   ]
  },
  {
   "cell_type": "code",
   "execution_count": 3,
   "metadata": {
    "tags": []
   },
   "outputs": [
    {
     "output_type": "stream",
     "name": "stdout",
     "text": "['Cube', 'Plane', 'Sphere']\n"
    }
   ],
   "source": [
    "# get objects in scene\n",
    "print( [name for name in triscene.geometry.keys()] )\n",
    "geo = triscene.geometry['Sphere']"
   ]
  },
  {
   "cell_type": "code",
   "execution_count": 30,
   "metadata": {
    "tags": []
   },
   "outputs": [
    {
     "output_type": "execute_result",
     "data": {
      "text/plain": "(array([[1. , 0. , 0. , 1. ],\n        [0. , 1. , 0. , 0.5],\n        [0. , 0. , 1. , 0. ],\n        [0. , 0. , 0. , 1. ]]),\n 'Sphere')"
     },
     "metadata": {},
     "execution_count": 30
    }
   ],
   "source": [
    "# Get get mesh geometry attributes\n",
    "positions = geo.vertices\n",
    "normals =   geo.vertex_normals\n",
    "uvs =       geo.visual.uv\n",
    "indices =   geo.faces\n",
    "\n",
    "# get mesh transform\n",
    "import inspect\n",
    "inspect.getmembers(triscene)\n",
    "triscene.graph['Sphere']"
   ]
  },
  {
   "cell_type": "code",
   "execution_count": 83,
   "metadata": {
    "tags": []
   },
   "outputs": [
    {
     "output_type": "stream",
     "name": "stdout",
     "text": "(1800, 3600, 3)\n"
    }
   ],
   "source": [
    "from editor.render.graphics.window import Window\n",
    "from editor.render.graphics.passes.deferred_pbr_renderer import DeferredPBRRenderer\n",
    "from editor.render import puregl\n",
    "viewer = Window(floating=True)\n",
    "renderer = DeferredPBRRenderer(viewer.width, viewer.height)\n",
    "@viewer.on_draw\n",
    "def draw():\n",
    "    beauty = renderer.render(scene, viewer.camera)\n",
    "    puregl.imdraw.textre(beauty, (0,0,viewer.width, viewer.height))\n",
    "viewer.start(worker=True)"
   ]
  },
  {
   "cell_type": "code",
   "execution_count": null,
   "metadata": {},
   "outputs": [],
   "source": [
    "from editor.render.graphics import Scene\n",
    "\n",
    "scene = Scene.test_scene()\n",
    "\n",
    "viewer = Window(floating=True)\n",
    "renderer = DeferredPBRRenderer(viewer.width, viewer.height)\n",
    "\n",
    "\n",
    "@viewer.on_draw\n",
    "def setup():\n",
    "    beauty = renderer.render(scene, viewer.camera)\n",
    "    puregl.imdraw.texture(beauty, (0, 0, viewer.width, viewer.height))\n",
    "\n",
    "\n",
    "viewer.start(worker=True)\n",
    "print(\"- end of program -\")"
   ]
  }
 ]
}