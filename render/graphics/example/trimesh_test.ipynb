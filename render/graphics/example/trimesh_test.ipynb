{
 "metadata": {
  "language_info": {
   "codemirror_mode": {
    "name": "ipython",
    "version": 3
   },
   "file_extension": ".py",
   "mimetype": "text/x-python",
   "name": "python",
   "nbconvert_exporter": "python",
   "pygments_lexer": "ipython3",
   "version": "3.7.7-final"
  },
  "orig_nbformat": 2,
  "kernelspec": {
   "name": "python3",
   "display_name": "Python 3"
  }
 },
 "nbformat": 4,
 "nbformat_minor": 2,
 "cells": [
  {
   "cell_type": "code",
   "execution_count": 1,
   "metadata": {
    "tags": []
   },
   "outputs": [
    {
     "output_type": "stream",
     "name": "stderr",
     "text": "WARNING:root:currently only supports mesh\nWARNING:root:currently only supports mesh\nWARNING:root:currently only supports mesh\nWARNING:root:currently only supports mesh\nWARNING:root:currently only supports mesh\n• Plane\n• Sphere\n• Cube\n"
    }
   ],
   "source": [
    "from editor.render.graphics import Scene\n",
    "from pathlib import Path\n",
    "path = Path(\"../../assets/test_scene.glb\").resolve()\n",
    "scene = Scene.from_gltf(path)\n",
    "scene.plot()\n",
    "\n"
   ]
  }
 ]
}